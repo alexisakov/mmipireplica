{
 "cells": [
  {
   "cell_type": "code",
   "execution_count": 372,
   "metadata": {},
   "outputs": [],
   "source": [
    "import pandas as pd\n",
    "from statsmodels.regression.rolling import RollingOLS\n",
    "from statsmodels.regression.linear_model import OLS\n",
    "from statsmodels.tools.tools import add_constant \n",
    "import numpy as np"
   ]
  },
  {
   "cell_type": "code",
   "execution_count": 373,
   "metadata": {},
   "outputs": [],
   "source": [
    "df = pd.read_excel('data.xlsx',sheet_name='X',index_col=0)"
   ]
  },
  {
   "cell_type": "code",
   "execution_count": 374,
   "metadata": {},
   "outputs": [],
   "source": [
    "df.index = df.index.to_period(\"M\")"
   ]
  },
  {
   "cell_type": "code",
   "execution_count": 405,
   "metadata": {},
   "outputs": [],
   "source": [
    "df['RUBOIL'] = df.USDRUB * df.Urals\n",
    "df['Sugar'] = df.Sugar * df.USDRUB\n",
    "df['Cereal'] = df.Cereal * df.USDRUB"
   ]
  },
  {
   "cell_type": "code",
   "execution_count": 406,
   "metadata": {},
   "outputs": [
    {
     "data": {
      "text/html": [
       "<div>\n",
       "<style scoped>\n",
       "    .dataframe tbody tr th:only-of-type {\n",
       "        vertical-align: middle;\n",
       "    }\n",
       "\n",
       "    .dataframe tbody tr th {\n",
       "        vertical-align: top;\n",
       "    }\n",
       "\n",
       "    .dataframe thead th {\n",
       "        text-align: right;\n",
       "    }\n",
       "</style>\n",
       "<table border=\"1\" class=\"dataframe\">\n",
       "  <thead>\n",
       "    <tr style=\"text-align: right;\">\n",
       "      <th></th>\n",
       "      <th>USDRUB</th>\n",
       "      <th>M2</th>\n",
       "      <th>Urals</th>\n",
       "      <th>Cereal</th>\n",
       "      <th>Sugar</th>\n",
       "      <th>RUBOIL</th>\n",
       "    </tr>\n",
       "  </thead>\n",
       "  <tbody>\n",
       "    <tr>\n",
       "      <th>2020-08</th>\n",
       "      <td>0.126194</td>\n",
       "      <td>0.162031</td>\n",
       "      <td>-0.244767</td>\n",
       "      <td>0.208059</td>\n",
       "      <td>0.198064</td>\n",
       "      <td>-0.149461</td>\n",
       "    </tr>\n",
       "    <tr>\n",
       "      <th>2020-09</th>\n",
       "      <td>0.164233</td>\n",
       "      <td>0.160713</td>\n",
       "      <td>-0.333551</td>\n",
       "      <td>0.322663</td>\n",
       "      <td>0.250534</td>\n",
       "      <td>-0.224098</td>\n",
       "    </tr>\n",
       "    <tr>\n",
       "      <th>2020-10</th>\n",
       "      <td>0.205657</td>\n",
       "      <td>0.161997</td>\n",
       "      <td>-0.315306</td>\n",
       "      <td>0.405832</td>\n",
       "      <td>0.313225</td>\n",
       "      <td>-0.174494</td>\n",
       "    </tr>\n",
       "    <tr>\n",
       "      <th>2020-11</th>\n",
       "      <td>0.206185</td>\n",
       "      <td>0.140812</td>\n",
       "      <td>-0.324290</td>\n",
       "      <td>0.446911</td>\n",
       "      <td>0.333184</td>\n",
       "      <td>-0.184969</td>\n",
       "    </tr>\n",
       "    <tr>\n",
       "      <th>2020-12</th>\n",
       "      <td>0.176700</td>\n",
       "      <td>0.086378</td>\n",
       "      <td>-0.341836</td>\n",
       "      <td>0.400054</td>\n",
       "      <td>0.233604</td>\n",
       "      <td>-0.194409</td>\n",
       "    </tr>\n",
       "  </tbody>\n",
       "</table>\n",
       "</div>"
      ],
      "text/plain": [
       "           USDRUB        M2     Urals    Cereal     Sugar    RUBOIL\n",
       "2020-08  0.126194  0.162031 -0.244767  0.208059  0.198064 -0.149461\n",
       "2020-09  0.164233  0.160713 -0.333551  0.322663  0.250534 -0.224098\n",
       "2020-10  0.205657  0.161997 -0.315306  0.405832  0.313225 -0.174494\n",
       "2020-11  0.206185  0.140812 -0.324290  0.446911  0.333184 -0.184969\n",
       "2020-12  0.176700  0.086378 -0.341836  0.400054  0.233604 -0.194409"
      ]
     },
     "execution_count": 406,
     "metadata": {},
     "output_type": "execute_result"
    }
   ],
   "source": [
    "dfyy = df.drop(['Pi'],axis=1).pct_change(periods=12)\n",
    "dfyy.tail()"
   ]
  },
  {
   "cell_type": "code",
   "execution_count": 407,
   "metadata": {},
   "outputs": [],
   "source": [
    "dfyy['M2'] = dfyy.M2.shift(periods=7)\n",
    "dfyy['Sugar'] = dfyy.Sugar.shift(periods=3)\n",
    "dfyy['Cereal'] = dfyy.Cereal.shift(periods=8)\n",
    "dfyy['RUBOIL'] = dfyy.RUBOIL.shift(periods=7)"
   ]
  },
  {
   "cell_type": "code",
   "execution_count": 408,
   "metadata": {},
   "outputs": [],
   "source": [
    "dfyy.dropna(inplace=True,how='any')"
   ]
  },
  {
   "cell_type": "code",
   "execution_count": 409,
   "metadata": {},
   "outputs": [],
   "source": [
    "dfyy.drop(['USDRUB','Urals'],inplace=True,axis=1)"
   ]
  },
  {
   "cell_type": "code",
   "execution_count": 410,
   "metadata": {},
   "outputs": [],
   "source": [
    "date_start = '2017-01'\n",
    "\n",
    "X = add_constant(dfyy[date_start:], prepend=False)\n",
    "Y = df[['Pi']][date_start:]"
   ]
  },
  {
   "cell_type": "code",
   "execution_count": 464,
   "metadata": {},
   "outputs": [],
   "source": [
    "mod = RollingOLS(Y, X,min_nobs=12\n",
    "                # ,window = 24\n",
    "                 ,expanding=True\n",
    "                )"
   ]
  },
  {
   "cell_type": "code",
   "execution_count": 465,
   "metadata": {},
   "outputs": [
    {
     "data": {
      "text/html": [
       "<div>\n",
       "<style scoped>\n",
       "    .dataframe tbody tr th:only-of-type {\n",
       "        vertical-align: middle;\n",
       "    }\n",
       "\n",
       "    .dataframe tbody tr th {\n",
       "        vertical-align: top;\n",
       "    }\n",
       "\n",
       "    .dataframe thead th {\n",
       "        text-align: right;\n",
       "    }\n",
       "</style>\n",
       "<table border=\"1\" class=\"dataframe\">\n",
       "  <thead>\n",
       "    <tr style=\"text-align: right;\">\n",
       "      <th></th>\n",
       "      <th>M2</th>\n",
       "      <th>Cereal</th>\n",
       "      <th>Sugar</th>\n",
       "      <th>RUBOIL</th>\n",
       "      <th>const</th>\n",
       "    </tr>\n",
       "  </thead>\n",
       "  <tbody>\n",
       "    <tr>\n",
       "      <th>2017-01</th>\n",
       "      <td>0.122763</td>\n",
       "      <td>0.235263</td>\n",
       "      <td>0.587311</td>\n",
       "      <td>-0.087013</td>\n",
       "      <td>1.0</td>\n",
       "    </tr>\n",
       "    <tr>\n",
       "      <th>2017-02</th>\n",
       "      <td>0.123445</td>\n",
       "      <td>0.166579</td>\n",
       "      <td>0.376315</td>\n",
       "      <td>-0.122084</td>\n",
       "      <td>1.0</td>\n",
       "    </tr>\n",
       "    <tr>\n",
       "      <th>2017-03</th>\n",
       "      <td>0.117691</td>\n",
       "      <td>0.029795</td>\n",
       "      <td>0.127448</td>\n",
       "      <td>-0.039531</td>\n",
       "      <td>1.0</td>\n",
       "    </tr>\n",
       "    <tr>\n",
       "      <th>2017-04</th>\n",
       "      <td>0.127800</td>\n",
       "      <td>-0.032331</td>\n",
       "      <td>0.137978</td>\n",
       "      <td>-0.081586</td>\n",
       "      <td>1.0</td>\n",
       "    </tr>\n",
       "    <tr>\n",
       "      <th>2017-05</th>\n",
       "      <td>0.120954</td>\n",
       "      <td>-0.077557</td>\n",
       "      <td>0.163573</td>\n",
       "      <td>0.017634</td>\n",
       "      <td>1.0</td>\n",
       "    </tr>\n",
       "  </tbody>\n",
       "</table>\n",
       "</div>"
      ],
      "text/plain": [
       "               M2    Cereal     Sugar    RUBOIL  const\n",
       "2017-01  0.122763  0.235263  0.587311 -0.087013    1.0\n",
       "2017-02  0.123445  0.166579  0.376315 -0.122084    1.0\n",
       "2017-03  0.117691  0.029795  0.127448 -0.039531    1.0\n",
       "2017-04  0.127800 -0.032331  0.137978 -0.081586    1.0\n",
       "2017-05  0.120954 -0.077557  0.163573  0.017634    1.0"
      ]
     },
     "execution_count": 465,
     "metadata": {},
     "output_type": "execute_result"
    }
   ],
   "source": [
    "X.head()"
   ]
  },
  {
   "cell_type": "code",
   "execution_count": 466,
   "metadata": {},
   "outputs": [],
   "source": [
    "rolling_params = mod.fit()"
   ]
  },
  {
   "cell_type": "code",
   "execution_count": 467,
   "metadata": {
    "scrolled": true
   },
   "outputs": [
    {
     "data": {
      "text/plain": [
       "<AxesSubplot:>"
      ]
     },
     "execution_count": 467,
     "metadata": {},
     "output_type": "execute_result"
    },
    {
     "data": {
      "image/png": "[encoded data removed]",
      "text/plain": [
       "<Figure size 432x288 with 1 Axes>"
      ]
     },
     "metadata": {
      "needs_background": "light"
     },
     "output_type": "display_data"
    }
   ],
   "source": [
    "rolling_params.params.dropna().plot()"
   ]
  },
  {
   "cell_type": "code",
   "execution_count": 459,
   "metadata": {},
   "outputs": [],
   "source": [
    "Y_HAT = Y*0"
   ]
  },
  {
   "cell_type": "code",
   "execution_count": 469,
   "metadata": {},
   "outputs": [],
   "source": [
    "for x in X[12:-1].index:\n",
    "    mo = OLS(Y[:x],X[:x])\n",
    "    res = mo.fit()\n",
    "    next_mo = x + pd.offsets.MonthEnd(1)\n",
    "    Y_HAT.Pi[next_mo]  = res.predict(X[next_mo:next_mo]).values[0]"
   ]
  },
  {
   "cell_type": "code",
   "execution_count": 470,
   "metadata": {},
   "outputs": [
    {
     "data": {
      "text/plain": [
       "<AxesSubplot:>"
      ]
     },
     "execution_count": 470,
     "metadata": {},
     "output_type": "execute_result"
    },
    {
     "data": {
      "image/png": "[encoded data removed]",
      "text/plain": [
       "<Figure size 432x288 with 1 Axes>"
      ]
     },
     "metadata": {
      "needs_background": "light"
     },
     "output_type": "display_data"
    }
   ],
   "source": [
    "p1 = Y_HAT['2018-02':].plot()\n",
    "Y.plot(ax=p1)"
   ]
  },
  {
   "cell_type": "code",
   "execution_count": 471,
   "metadata": {},
   "outputs": [
    {
     "data": {
      "text/plain": [
       "0.383670270905566"
      ]
     },
     "execution_count": 471,
     "metadata": {},
     "output_type": "execute_result"
    }
   ],
   "source": [
    "np.sqrt(((Y_HAT.Pi - Y.Pi)['2018-02':]).pow(2).mean())"
   ]
  },
  {
   "cell_type": "code",
   "execution_count": 473,
   "metadata": {},
   "outputs": [],
   "source": [
    "mo = OLS(Y,X)\n",
    "res = mo.fit()\n",
    "Y_HAT_IN  = res.predict(X)"
   ]
  },
  {
   "cell_type": "code",
   "execution_count": 474,
   "metadata": {},
   "outputs": [
    {
     "name": "stdout",
     "output_type": "stream",
     "text": [
      "                            OLS Regression Results                            \n",
      "==============================================================================\n",
      "Dep. Variable:                     Pi   R-squared:                       0.894\n",
      "Model:                            OLS   Adj. R-squared:                  0.884\n",
      "Method:                 Least Squares   F-statistic:                     90.32\n",
      "Date:                Tue, 12 Jan 2021   Prob (F-statistic):           2.41e-20\n",
      "Time:                        23:00:37   Log-Likelihood:                -11.818\n",
      "No. Observations:                  48   AIC:                             33.64\n",
      "Df Residuals:                      43   BIC:                             42.99\n",
      "Df Model:                           4                                         \n",
      "Covariance Type:            nonrobust                                         \n",
      "==============================================================================\n",
      "                 coef    std err          t      P>|t|      [0.025      0.975]\n",
      "------------------------------------------------------------------------------\n",
      "M2            24.6163      3.065      8.032      0.000      18.436      30.797\n",
      "Cereal         1.4291      0.483      2.956      0.005       0.454       2.404\n",
      "Sugar          2.4680      0.351      7.032      0.000       1.760       3.176\n",
      "RUBOIL         0.9987      0.196      5.091      0.000       0.603       1.394\n",
      "const          0.9761      0.328      2.979      0.005       0.315       1.637\n",
      "==============================================================================\n",
      "Omnibus:                        1.317   Durbin-Watson:                   1.147\n",
      "Prob(Omnibus):                  0.518   Jarque-Bera (JB):                0.559\n",
      "Skew:                          -0.129   Prob(JB):                        0.756\n",
      "Kurtosis:                       3.461   Cond. No.                         66.0\n",
      "==============================================================================\n",
      "\n",
      "Notes:\n",
      "[1] Standard Errors assume that the covariance matrix of the errors is correctly specified.\n"
     ]
    }
   ],
   "source": [
    "print(res.summary())"
   ]
  },
  {
   "cell_type": "code",
   "execution_count": 454,
   "metadata": {},
   "outputs": [
    {
     "data": {
      "text/plain": [
       "<AxesSubplot:>"
      ]
     },
     "execution_count": 454,
     "metadata": {},
     "output_type": "execute_result"
    },
    {
     "data": {
      "image/png": "[encoded data removed]",
      "text/plain": [
       "<Figure size 432x288 with 1 Axes>"
      ]
     },
     "metadata": {
      "needs_background": "light"
     },
     "output_type": "display_data"
    }
   ],
   "source": [
    "p1 = Y_HAT_IN.plot(); \n",
    "Y.plot(ax=p1)"
   ]
  }
 ],
 "metadata": {
  "kernelspec": {
   "display_name": "Python 3",
   "language": "python",
   "name": "python3"
  },
  "language_info": {
   "codemirror_mode": {
    "name": "ipython",
    "version": 3
   },
   "file_extension": ".py",
   "mimetype": "text/x-python",
   "name": "python",
   "nbconvert_exporter": "python",
   "pygments_lexer": "ipython3",
   "version": "3.7.7"
  }
 },
 "nbformat": 4,
 "nbformat_minor": 4
}
